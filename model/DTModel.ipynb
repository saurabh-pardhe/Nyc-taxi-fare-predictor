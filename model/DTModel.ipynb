{
 "cells": [
  {
   "cell_type": "code",
   "execution_count": null,
   "metadata": {
    "ExecuteTime": {
     "end_time": "2025-06-28T22:11:31.873190Z",
     "start_time": "2025-06-28T22:11:31.510969Z"
    },
    "id": "-usGyjL8EG35"
   },
   "outputs": [],
   "source": [
    "import numpy as np\n",
    "import pandas as pd\n",
    "import matplotlib.pyplot as plt\n",
    "import seaborn as sns\n",
    "import mlflow\n",
    "import mlflow.sklearn\n",
    "import os\n",
    "from feast import FeatureStore"
   ]
  },
  {
   "cell_type": "code",
   "execution_count": 2,
   "metadata": {
    "ExecuteTime": {
     "end_time": "2025-06-28T22:11:32.672449Z",
     "start_time": "2025-06-28T22:11:32.656192Z"
    },
    "colab": {
     "base_uri": "https://localhost:8080/",
     "height": 206
    },
    "id": "ZyAWVZaQHyKn",
    "outputId": "972890ec-3ddb-46f8-8bfa-e687a1a2f950"
   },
   "outputs": [
    {
     "data": {
      "text/html": [
       "<div>\n",
       "<style scoped>\n",
       "    .dataframe tbody tr th:only-of-type {\n",
       "        vertical-align: middle;\n",
       "    }\n",
       "\n",
       "    .dataframe tbody tr th {\n",
       "        vertical-align: top;\n",
       "    }\n",
       "\n",
       "    .dataframe thead th {\n",
       "        text-align: right;\n",
       "    }\n",
       "</style>\n",
       "<table border=\"1\" class=\"dataframe\">\n",
       "  <thead>\n",
       "    <tr style=\"text-align: right;\">\n",
       "      <th></th>\n",
       "      <th>LocationID</th>\n",
       "      <th>Borough</th>\n",
       "      <th>Zone</th>\n",
       "      <th>service_zone</th>\n",
       "    </tr>\n",
       "  </thead>\n",
       "  <tbody>\n",
       "    <tr>\n",
       "      <th>0</th>\n",
       "      <td>1</td>\n",
       "      <td>EWR</td>\n",
       "      <td>Newark Airport</td>\n",
       "      <td>EWR</td>\n",
       "    </tr>\n",
       "    <tr>\n",
       "      <th>1</th>\n",
       "      <td>2</td>\n",
       "      <td>Queens</td>\n",
       "      <td>Jamaica Bay</td>\n",
       "      <td>Boro Zone</td>\n",
       "    </tr>\n",
       "    <tr>\n",
       "      <th>2</th>\n",
       "      <td>3</td>\n",
       "      <td>Bronx</td>\n",
       "      <td>Allerton/Pelham Gardens</td>\n",
       "      <td>Boro Zone</td>\n",
       "    </tr>\n",
       "    <tr>\n",
       "      <th>3</th>\n",
       "      <td>4</td>\n",
       "      <td>Manhattan</td>\n",
       "      <td>Alphabet City</td>\n",
       "      <td>Yellow Zone</td>\n",
       "    </tr>\n",
       "    <tr>\n",
       "      <th>4</th>\n",
       "      <td>5</td>\n",
       "      <td>Staten Island</td>\n",
       "      <td>Arden Heights</td>\n",
       "      <td>Boro Zone</td>\n",
       "    </tr>\n",
       "  </tbody>\n",
       "</table>\n",
       "</div>"
      ],
      "text/plain": [
       "   LocationID        Borough                     Zone service_zone\n",
       "0           1            EWR           Newark Airport          EWR\n",
       "1           2         Queens              Jamaica Bay    Boro Zone\n",
       "2           3          Bronx  Allerton/Pelham Gardens    Boro Zone\n",
       "3           4      Manhattan            Alphabet City  Yellow Zone\n",
       "4           5  Staten Island            Arden Heights    Boro Zone"
      ]
     },
     "execution_count": 2,
     "metadata": {},
     "output_type": "execute_result"
    }
   ],
   "source": [
    "df0 = pd.read_csv('Paste path from CSV folder for taxi_zone_lookup.csv')\n",
    "df0.head()"
   ]
  },
  {
   "cell_type": "code",
   "execution_count": 3,
   "metadata": {},
   "outputs": [
    {
     "name": "stderr",
     "output_type": "stream",
     "text": [
      "<>:3: DeprecationWarning: invalid escape sequence '\\O'\n"
     ]
    }
   ],
   "source": [
    "# import the google creds \n",
    "import os\n",
    "os.environ[\"GOOGLE_APPLICATION_CREDENTIALS\"] = 'Enter path of GCPKey'"
   ]
  },
  {
   "cell_type": "code",
   "execution_count": null,
   "metadata": {
    "ExecuteTime": {
     "end_time": "2025-06-28T22:12:24.622773Z",
     "start_time": "2025-06-28T22:11:32.708795Z"
    }
   },
   "outputs": [],
   "source": [
    "from feast import FeatureStore\n",
    "from google.cloud import bigquery\n",
    "\n",
    "# 1. Set up Feast and BQ clients\n",
    "fs = FeatureStore(repo_path=\"Paste path of the feature repo created...\")\n",
    "bq = bigquery.Client()\n",
    "\n",
    "# in From enter your table created in BigQuery\n",
    "entity_keys = bq.query(\"\"\"\n",
    "    SELECT trip_id, pickup_ts\n",
    "    FROM `opportune-baton-464110-c1.VLBA.Taxi_data_features_split`\n",
    "    WHERE split = 'dev'\n",
    "\"\"\").to_dataframe()\n",
    "\n",
    "# Fetch historical features for those entities\n",
    "feature_refs = [\n",
    "    \"taxi_features:pickup_bin\",\n",
    "    \"taxi_features:dropoff_bin\",\n",
    "    \"taxi_features:trip_time_s\",\n",
    "    \"taxi_features:passenger_count\",\n",
    "    \"taxi_features:trip_distance\",\n",
    "    \"taxi_features:RatecodeID\",\n",
    "    \"taxi_features:PULocationID\",\n",
    "    \"taxi_features:DOLocationID\",\n",
    "    \"taxi_features:total_surcharges\",\n",
    "    \"taxi_features:airport_fee\",\n",
    "    \"taxi_features:total_amount\"\n",
    "]\n",
    "\n",
    "df_all = fs.get_historical_features(\n",
    "    entity_keys,\n",
    "    feature_refs\n",
    ").to_df()\n",
    "\n",
    "print(df_all.head())"
   ]
  },
  {
   "cell_type": "code",
   "execution_count": 5,
   "metadata": {
    "ExecuteTime": {
     "end_time": "2025-06-28T22:12:24.794550Z",
     "start_time": "2025-06-28T22:12:24.749603Z"
    }
   },
   "outputs": [
    {
     "name": "stdout",
     "output_type": "stream",
     "text": [
      "<class 'pandas.core.frame.DataFrame'>\n",
      "RangeIndex: 17051639 entries, 0 to 17051638\n",
      "Data columns (total 13 columns):\n",
      " #   Column            Dtype              \n",
      "---  ------            -----              \n",
      " 0   trip_id           object             \n",
      " 1   pickup_ts         datetime64[us, UTC]\n",
      " 2   pickup_bin        int64              \n",
      " 3   dropoff_bin       int64              \n",
      " 4   trip_time_s       int64              \n",
      " 5   passenger_count   float64            \n",
      " 6   trip_distance     float64            \n",
      " 7   RatecodeID        float64            \n",
      " 8   PULocationID      int64              \n",
      " 9   DOLocationID      int64              \n",
      " 10  total_surcharges  float64            \n",
      " 11  airport_fee       float64            \n",
      " 12  total_amount      float64            \n",
      "dtypes: datetime64[us, UTC](1), float64(6), int64(5), object(1)\n",
      "memory usage: 1.7+ GB\n"
     ]
    }
   ],
   "source": [
    "df_all.info()"
   ]
  },
  {
   "cell_type": "code",
   "execution_count": 6,
   "metadata": {
    "ExecuteTime": {
     "end_time": "2025-06-28T22:12:33.392362Z",
     "start_time": "2025-06-28T22:12:24.894385Z"
    }
   },
   "outputs": [
    {
     "name": "stdout",
     "output_type": "stream",
     "text": [
      "<class 'pandas.core.frame.DataFrame'>\n",
      "RangeIndex: 17051639 entries, 0 to 17051638\n",
      "Data columns (total 11 columns):\n",
      " #   Column            Dtype  \n",
      "---  ------            -----  \n",
      " 0   pickup_bin        int64  \n",
      " 1   dropoff_bin       int64  \n",
      " 2   trip_time_s       int64  \n",
      " 3   passenger_count   float64\n",
      " 4   trip_distance     float64\n",
      " 5   RatecodeID        float64\n",
      " 6   PULocationID      int64  \n",
      " 7   DOLocationID      int64  \n",
      " 8   total_surcharges  float64\n",
      " 9   airport_fee       float64\n",
      " 10  total_amount      float64\n",
      "dtypes: float64(6), int64(5)\n",
      "memory usage: 1.4 GB\n"
     ]
    }
   ],
   "source": [
    "df_full = df_all[[\"pickup_bin\", \"dropoff_bin\", \"trip_time_s\", \"passenger_count\", \"trip_distance\", \"RatecodeID\", \"PULocationID\", \"DOLocationID\", \"total_surcharges\", \"airport_fee\" , \"total_amount\"]]\n",
    "df_full.info()"
   ]
  },
  {
   "cell_type": "code",
   "execution_count": 7,
   "metadata": {
    "ExecuteTime": {
     "end_time": "2025-06-28T22:12:33.872618Z",
     "start_time": "2025-06-28T22:12:33.487388Z"
    },
    "colab": {
     "base_uri": "https://localhost:8080/",
     "height": 711
    },
    "id": "DqJfIYWWzjU8",
    "outputId": "391936f7-9a86-4ba0-ee82-d098e5c8d8ab"
   },
   "outputs": [
    {
     "data": {
      "text/plain": [
       "pickup_bin          0\n",
       "dropoff_bin         0\n",
       "trip_time_s         0\n",
       "passenger_count     0\n",
       "trip_distance       0\n",
       "RatecodeID          0\n",
       "PULocationID        0\n",
       "DOLocationID        0\n",
       "total_surcharges    0\n",
       "airport_fee         0\n",
       "total_amount        0\n",
       "dtype: int64"
      ]
     },
     "execution_count": 7,
     "metadata": {},
     "output_type": "execute_result"
    }
   ],
   "source": [
    "df_full.isna().sum()"
   ]
  },
  {
   "cell_type": "markdown",
   "metadata": {
    "id": "g-Mj6J2rwtyp"
   },
   "source": [
    "###Exploratory Data Analysis\n",
    "\n",
    "Steps:\n",
    "1. Merge - Airport Fee columns\n",
    "2. Covert attributes 'tpep_pickup_datetime' and 'tpep_dropoff_datetime' to bins and trip_time\n",
    "3. Encode attribute store_and_fwd_flag\n",
    "4. Null value treatment: replace with mean\n",
    "5. Outlier treatment - pending (should be based on full data)"
   ]
  },
  {
   "cell_type": "code",
   "execution_count": 9,
   "metadata": {
    "ExecuteTime": {
     "end_time": "2025-06-28T22:12:40.737596Z",
     "start_time": "2025-06-28T22:12:33.949416Z"
    },
    "colab": {
     "base_uri": "https://localhost:8080/"
    },
    "id": "RbR6Z-Q-0TVm",
    "outputId": "92fc74d6-1aef-4eb7-85a8-6f5a2493bc1f"
   },
   "outputs": [
    {
     "data": {
      "text/html": [
       "<div>\n",
       "<style scoped>\n",
       "    .dataframe tbody tr th:only-of-type {\n",
       "        vertical-align: middle;\n",
       "    }\n",
       "\n",
       "    .dataframe tbody tr th {\n",
       "        vertical-align: top;\n",
       "    }\n",
       "\n",
       "    .dataframe thead th {\n",
       "        text-align: right;\n",
       "    }\n",
       "</style>\n",
       "<table border=\"1\" class=\"dataframe\">\n",
       "  <thead>\n",
       "    <tr style=\"text-align: right;\">\n",
       "      <th></th>\n",
       "      <th>pickup_bin</th>\n",
       "      <th>dropoff_bin</th>\n",
       "      <th>trip_time_s</th>\n",
       "      <th>passenger_count</th>\n",
       "      <th>trip_distance</th>\n",
       "      <th>RatecodeID</th>\n",
       "      <th>PULocationID</th>\n",
       "      <th>DOLocationID</th>\n",
       "      <th>total_surcharges</th>\n",
       "      <th>airport_fee</th>\n",
       "      <th>total_amount</th>\n",
       "    </tr>\n",
       "  </thead>\n",
       "  <tbody>\n",
       "    <tr>\n",
       "      <th>count</th>\n",
       "      <td>1.851800e+07</td>\n",
       "      <td>1.851800e+07</td>\n",
       "      <td>1.851800e+07</td>\n",
       "      <td>1.851800e+07</td>\n",
       "      <td>1.851800e+07</td>\n",
       "      <td>1.851800e+07</td>\n",
       "      <td>1.851800e+07</td>\n",
       "      <td>1.851800e+07</td>\n",
       "      <td>1.851800e+07</td>\n",
       "      <td>1.851800e+07</td>\n",
       "      <td>1.851800e+07</td>\n",
       "    </tr>\n",
       "    <tr>\n",
       "      <th>mean</th>\n",
       "      <td>4.189357e+00</td>\n",
       "      <td>4.199660e+00</td>\n",
       "      <td>1.018616e+03</td>\n",
       "      <td>1.329744e+00</td>\n",
       "      <td>4.052219e+00</td>\n",
       "      <td>1.525315e+00</td>\n",
       "      <td>1.656170e+02</td>\n",
       "      <td>1.641799e+02</td>\n",
       "      <td>5.846339e+00</td>\n",
       "      <td>1.213598e-01</td>\n",
       "      <td>2.804910e+01</td>\n",
       "    </tr>\n",
       "    <tr>\n",
       "      <th>std</th>\n",
       "      <td>1.428539e+00</td>\n",
       "      <td>1.449040e+00</td>\n",
       "      <td>2.554527e+03</td>\n",
       "      <td>9.040876e-01</td>\n",
       "      <td>2.417019e+02</td>\n",
       "      <td>6.841176e+00</td>\n",
       "      <td>6.405298e+01</td>\n",
       "      <td>6.990931e+01</td>\n",
       "      <td>3.283491e+00</td>\n",
       "      <td>4.212160e-01</td>\n",
       "      <td>9.286096e+01</td>\n",
       "    </tr>\n",
       "    <tr>\n",
       "      <th>min</th>\n",
       "      <td>1.000000e+00</td>\n",
       "      <td>1.000000e+00</td>\n",
       "      <td>-2.857500e+04</td>\n",
       "      <td>0.000000e+00</td>\n",
       "      <td>0.000000e+00</td>\n",
       "      <td>0.000000e+00</td>\n",
       "      <td>1.000000e+00</td>\n",
       "      <td>1.000000e+00</td>\n",
       "      <td>-7.680000e+01</td>\n",
       "      <td>-1.750000e+00</td>\n",
       "      <td>-9.829500e+02</td>\n",
       "    </tr>\n",
       "    <tr>\n",
       "      <th>25%</th>\n",
       "      <td>3.000000e+00</td>\n",
       "      <td>3.000000e+00</td>\n",
       "      <td>4.480000e+02</td>\n",
       "      <td>1.000000e+00</td>\n",
       "      <td>1.070000e+00</td>\n",
       "      <td>1.000000e+00</td>\n",
       "      <td>1.320000e+02</td>\n",
       "      <td>1.140000e+02</td>\n",
       "      <td>4.000000e+00</td>\n",
       "      <td>0.000000e+00</td>\n",
       "      <td>1.575000e+01</td>\n",
       "    </tr>\n",
       "    <tr>\n",
       "      <th>50%</th>\n",
       "      <td>4.000000e+00</td>\n",
       "      <td>4.000000e+00</td>\n",
       "      <td>7.360000e+02</td>\n",
       "      <td>1.000000e+00</td>\n",
       "      <td>1.800000e+00</td>\n",
       "      <td>1.000000e+00</td>\n",
       "      <td>1.620000e+02</td>\n",
       "      <td>1.620000e+02</td>\n",
       "      <td>5.000000e+00</td>\n",
       "      <td>0.000000e+00</td>\n",
       "      <td>2.065000e+01</td>\n",
       "    </tr>\n",
       "    <tr>\n",
       "      <th>75%</th>\n",
       "      <td>5.000000e+00</td>\n",
       "      <td>5.000000e+00</td>\n",
       "      <td>1.192000e+03</td>\n",
       "      <td>1.000000e+00</td>\n",
       "      <td>3.420000e+00</td>\n",
       "      <td>1.000000e+00</td>\n",
       "      <td>2.340000e+02</td>\n",
       "      <td>2.340000e+02</td>\n",
       "      <td>6.500000e+00</td>\n",
       "      <td>0.000000e+00</td>\n",
       "      <td>3.010000e+01</td>\n",
       "    </tr>\n",
       "    <tr>\n",
       "      <th>max</th>\n",
       "      <td>6.000000e+00</td>\n",
       "      <td>6.000000e+00</td>\n",
       "      <td>6.017510e+05</td>\n",
       "      <td>9.000000e+00</td>\n",
       "      <td>3.423450e+05</td>\n",
       "      <td>9.900000e+01</td>\n",
       "      <td>2.650000e+02</td>\n",
       "      <td>2.650000e+02</td>\n",
       "      <td>6.745600e+02</td>\n",
       "      <td>1.750000e+00</td>\n",
       "      <td>3.869880e+05</td>\n",
       "    </tr>\n",
       "  </tbody>\n",
       "</table>\n",
       "</div>"
      ],
      "text/plain": [
       "         pickup_bin   dropoff_bin   trip_time_s  passenger_count  \\\n",
       "count  1.851800e+07  1.851800e+07  1.851800e+07     1.851800e+07   \n",
       "mean   4.189357e+00  4.199660e+00  1.018616e+03     1.329744e+00   \n",
       "std    1.428539e+00  1.449040e+00  2.554527e+03     9.040876e-01   \n",
       "min    1.000000e+00  1.000000e+00 -2.857500e+04     0.000000e+00   \n",
       "25%    3.000000e+00  3.000000e+00  4.480000e+02     1.000000e+00   \n",
       "50%    4.000000e+00  4.000000e+00  7.360000e+02     1.000000e+00   \n",
       "75%    5.000000e+00  5.000000e+00  1.192000e+03     1.000000e+00   \n",
       "max    6.000000e+00  6.000000e+00  6.017510e+05     9.000000e+00   \n",
       "\n",
       "       trip_distance    RatecodeID  PULocationID  DOLocationID  \\\n",
       "count   1.851800e+07  1.851800e+07  1.851800e+07  1.851800e+07   \n",
       "mean    4.052219e+00  1.525315e+00  1.656170e+02  1.641799e+02   \n",
       "std     2.417019e+02  6.841176e+00  6.405298e+01  6.990931e+01   \n",
       "min     0.000000e+00  0.000000e+00  1.000000e+00  1.000000e+00   \n",
       "25%     1.070000e+00  1.000000e+00  1.320000e+02  1.140000e+02   \n",
       "50%     1.800000e+00  1.000000e+00  1.620000e+02  1.620000e+02   \n",
       "75%     3.420000e+00  1.000000e+00  2.340000e+02  2.340000e+02   \n",
       "max     3.423450e+05  9.900000e+01  2.650000e+02  2.650000e+02   \n",
       "\n",
       "       total_surcharges   airport_fee  total_amount  \n",
       "count      1.851800e+07  1.851800e+07  1.851800e+07  \n",
       "mean       5.846339e+00  1.213598e-01  2.804910e+01  \n",
       "std        3.283491e+00  4.212160e-01  9.286096e+01  \n",
       "min       -7.680000e+01 -1.750000e+00 -9.829500e+02  \n",
       "25%        4.000000e+00  0.000000e+00  1.575000e+01  \n",
       "50%        5.000000e+00  0.000000e+00  2.065000e+01  \n",
       "75%        6.500000e+00  0.000000e+00  3.010000e+01  \n",
       "max        6.745600e+02  1.750000e+00  3.869880e+05  "
      ]
     },
     "execution_count": 9,
     "metadata": {},
     "output_type": "execute_result"
    }
   ],
   "source": [
    "df_full.describe()"
   ]
  },
  {
   "cell_type": "code",
   "execution_count": 8,
   "metadata": {
    "ExecuteTime": {
     "end_time": "2025-06-28T22:12:43.997472Z",
     "start_time": "2025-06-28T22:12:40.820904Z"
    }
   },
   "outputs": [
    {
     "data": {
      "text/plain": [
       "(16483145, 11)"
      ]
     },
     "execution_count": 8,
     "metadata": {},
     "output_type": "execute_result"
    }
   ],
   "source": [
    "# List of 4 attributes to check for outliers\n",
    "selected_attributes = ['trip_time_s', 'trip_distance', 'RatecodeID', 'total_surcharges',\n",
    "                       'total_amount']  # replace with your actual column names\n",
    "\n",
    "# Calculate Q1 and Q3 for the selected attributes\n",
    "Q1 = df_full[selected_attributes].quantile(0.25)\n",
    "Q3 = df_full[selected_attributes].quantile(0.75)\n",
    "\n",
    "# Compute IQR\n",
    "IQR = Q3 - Q1\n",
    "\n",
    "# Identify rows that are NOT outliers on any of the selected attributes\n",
    "non_outlier_mask = ~((df_full[selected_attributes] < (Q1 - 10 * IQR)) |\n",
    "                     (df_full[selected_attributes] > (Q3 + 10 * IQR))).any(axis=1)\n",
    "\n",
    "# Apply the mask to the full DataFrame\n",
    "df_full_treated = df_full[non_outlier_mask]\n",
    "\n",
    "# Check the new shape\n",
    "df_full_treated.shape"
   ]
  },
  {
   "cell_type": "code",
   "execution_count": 11,
   "metadata": {
    "ExecuteTime": {
     "end_time": "2025-06-28T22:15:09.557490Z",
     "start_time": "2025-06-28T22:12:44.561650Z"
    }
   },
   "outputs": [
    {
     "data": {
      "image/png": "[encoded data removed]",
      "text/plain": [
       "<Figure size 1200x800 with 12 Axes>"
      ]
     },
     "metadata": {},
     "output_type": "display_data"
    }
   ],
   "source": [
    "df_num = df_full_treated.select_dtypes(np.number)\n",
    "fig, ax = plt.subplots(nrows = 4, ncols = 3, figsize = (12,8))\n",
    "plt.tight_layout()\n",
    "for var, subplot in zip(df_num.columns, ax.flatten()):\n",
    "    sns.boxplot(x = df_full_treated[var], ax = subplot)\n",
    "plt.show()"
   ]
  },
  {
   "cell_type": "markdown",
   "metadata": {
    "id": "SG5fXwraw2wP"
   },
   "source": [
    "Regression:\n",
    "\n",
    "1. Dattime columns - pending\n",
    "2. Scaling - pending\n",
    "3. Train - Test split\n",
    "4. Regression\n",
    "5. Evaluation Metrics\n",
    "6. Hyperparameter tuning - pending\n",
    "7. Evaluation - pending"
   ]
  },
  {
   "cell_type": "code",
   "execution_count": 9,
   "metadata": {},
   "outputs": [],
   "source": [
    "df_full = df_full_treated"
   ]
  },
  {
   "cell_type": "code",
   "execution_count": 10,
   "metadata": {
    "ExecuteTime": {
     "end_time": "2025-06-28T22:15:21.350793Z",
     "start_time": "2025-06-28T22:15:17.493273Z"
    },
    "id": "uSuh92F2D3us"
   },
   "outputs": [],
   "source": [
    "from sklearn.model_selection import train_test_split\n",
    "\n",
    "X = df_full.drop(['total_amount'], axis = 1)\n",
    "y = df_full['total_amount']\n",
    "\n",
    "X_train, X_test, y_train, y_test = train_test_split(X,y,random_state=0, test_size = 0.3)"
   ]
  },
  {
   "cell_type": "code",
   "execution_count": 11,
   "metadata": {
    "ExecuteTime": {
     "end_time": "2025-06-28T22:15:21.426547Z",
     "start_time": "2025-06-28T22:15:21.421074Z"
    },
    "colab": {
     "base_uri": "https://localhost:8080/"
    },
    "id": "rkvNgKTIp2Na",
    "outputId": "6e7d72a1-8a4a-40ab-cf6b-3b7307e4ea75"
   },
   "outputs": [
    {
     "data": {
      "text/plain": [
       "(11538201, 4944944, 11538201, 4944944)"
      ]
     },
     "execution_count": 11,
     "metadata": {},
     "output_type": "execute_result"
    }
   ],
   "source": [
    "len(X_train), len(X_test), len(y_train), len(y_test)"
   ]
  },
  {
   "cell_type": "code",
   "execution_count": 15,
   "metadata": {
    "ExecuteTime": {
     "end_time": "2025-06-28T22:15:21.576102Z",
     "start_time": "2025-06-28T22:15:21.547623Z"
    },
    "colab": {
     "base_uri": "https://localhost:8080/"
    },
    "id": "fZn2YbNXqkmL",
    "outputId": "2778a441-68a3-4ce7-a03e-3b91cdb245fa"
   },
   "outputs": [
    {
     "name": "stdout",
     "output_type": "stream",
     "text": [
      "<class 'pandas.core.frame.DataFrame'>\n",
      "Index: 12962596 entries, 2658469 to 8325804\n",
      "Data columns (total 10 columns):\n",
      " #   Column            Dtype  \n",
      "---  ------            -----  \n",
      " 0   pickup_bin        float64\n",
      " 1   dropoff_bin       float64\n",
      " 2   trip_time_s       float64\n",
      " 3   passenger_count   float64\n",
      " 4   trip_distance     float64\n",
      " 5   RatecodeID        float64\n",
      " 6   PULocationID      float64\n",
      " 7   DOLocationID      float64\n",
      " 8   total_surcharges  float64\n",
      " 9   airport_fee       float64\n",
      "dtypes: float64(10)\n",
      "memory usage: 1.1 GB\n"
     ]
    }
   ],
   "source": [
    "X_train.info()"
   ]
  },
  {
   "cell_type": "code",
   "execution_count": 12,
   "metadata": {
    "ExecuteTime": {
     "end_time": "2025-06-28T23:10:01.021565Z",
     "start_time": "2025-06-28T22:19:57.679645Z"
    }
   },
   "outputs": [
    {
     "name": "stderr",
     "output_type": "stream",
     "text": [
      "2025/07/02 00:48:24 INFO mlflow.tracking.fluent: Experiment with name 'Decision Tree Regressor' does not exist. Creating a new experiment.\n"
     ]
    }
   ],
   "source": [
    "from sklearn.tree import DecisionTreeRegressor\n",
    "from sklearn.metrics import mean_absolute_error, mean_squared_error, r2_score\n",
    "from mlflow.models.signature import infer_signature\n",
    "from sklearn.model_selection import GridSearchCV\n",
    "\n",
    "mlflow.set_experiment(\"Decision Tree Regressor\")\n",
    "mlflow.set_tracking_uri(\"http://localhost:5000\")\n",
    "\n",
    "param_grid = {\"max_depth\": [20, 30],\"min_samples_split\": [10, 50], \"min_samples_leaf\": [10, 50], \"max_leaf_nodes\": [500, 1000]}\n",
    "\n",
    "grid_search = GridSearchCV(estimator=DecisionTreeRegressor(random_state=10), param_grid=param_grid, cv=3, scoring=\"r2\", n_jobs=-1)\n",
    "grid_search.fit(X_train, y_train)\n",
    "\n",
    "# Get best model\n",
    "best_model = grid_search.best_estimator_\n",
    "y_hat_train = best_model.predict(X_train)\n",
    "y_hat_test = best_model.predict(X_test)\n",
    "\n",
    "# MLflow logging\n",
    "with mlflow.start_run():\n",
    "\n",
    "    # Log model\n",
    "    input_example = pd.DataFrame(X_train[:5], columns=X_train.columns)\n",
    "    signature = infer_signature(X_train, y_hat_train)\n",
    "\n",
    "    mlflow.sklearn.log_model(sk_model=best_model,artifact_path=\"DT_Regressor\",input_example=input_example,signature=signature,registered_model_name=\"DT_Regressor\")\n",
    "\n",
    "    # Log metrics\n",
    "    mlflow.log_metric(\"train_r2\", r2_score(y_train, y_hat_train))\n",
    "    mlflow.log_metric(\"train_rmse\", np.sqrt(mean_squared_error(y_train, y_hat_train)))\n",
    "    mlflow.log_metric(\"train_mae\", mean_absolute_error(y_train, y_hat_train))\n",
    "\n",
    "    mlflow.log_metric(\"test_r2\", r2_score(y_test, y_hat_test))\n",
    "    mlflow.log_metric(\"test_rmse\", np.sqrt(mean_squared_error(y_test, y_hat_test)))\n",
    "    mlflow.log_metric(\"test_mae\", mean_absolute_error(y_test, y_hat_test))\n",
    "\n",
    "    # Log best hyperparameters\n",
    "    best_params = best_model.get_params()\n",
    "    mlflow.log_param(\"max_depth\", best_params[\"max_depth\"])\n",
    "    mlflow.log_param(\"min_samples_split\", best_params[\"min_samples_split\"])\n",
    "    mlflow.log_param(\"min_samples_leaf\", best_params[\"min_samples_leaf\"])\n",
    "    mlflow.log_param(\"max_leaf_nodes\", best_params[\"max_leaf_nodes\"])\n",
    "\n",
    "print(\"Model version\", result.version, \"Model name\", result.name)"
   ]
  }
 ],
 "metadata": {
  "accelerator": "GPU",
  "colab": {
   "gpuType": "T4",
   "provenance": []
  },
  "kernelspec": {
   "display_name": "Python 3",
   "name": "python3"
  },
  "language_info": {
   "codemirror_mode": {
    "name": "ipython",
    "version": 3
   },
   "file_extension": ".py",
   "mimetype": "text/x-python",
   "name": "python",
   "nbconvert_exporter": "python",
   "pygments_lexer": "ipython3",
   "version": "3.10.0"
  }
 },
 "nbformat": 4,
 "nbformat_minor": 0
}
